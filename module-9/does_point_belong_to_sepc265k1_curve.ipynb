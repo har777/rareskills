{
 "cells": [
  {
   "cell_type": "code",
   "execution_count": 21,
   "id": "62ee7f87",
   "metadata": {},
   "outputs": [],
   "source": [
    "def does_point_belong_to_sepc265k1_curve(x, y):\n",
    "    # Refer: http://koclab.cs.ucsb.edu/teaching/ecc/project/2015Projects/Bjoernsen.pdf\n",
    "    # Also refer ChatGPT :p\n",
    "\n",
    "    # Formula:\n",
    "    # (y^2) % p == (x^3 + a*x + b) % p\n",
    "    p = 0xFFFFFFFFFFFFFFFFFFFFFFFFFFFFFFFFFFFFFFFFFFFFFFFFFFFFFFFEFFFFFC2F\n",
    "    a = 0\n",
    "    b = 7\n",
    "\n",
    "    # return pow(y, 2, p) == (pow(x, 3, p) + ((a * x) % p) + b) % p\n",
    "    # well a is 0 so I'm simplifying it\n",
    "    \n",
    "    left = pow(y, 2, p)\n",
    "    right = (pow(x, 3, p) + b) % p\n",
    "\n",
    "    return left == right"
   ]
  },
  {
   "cell_type": "code",
   "execution_count": 22,
   "id": "6d3357fd",
   "metadata": {},
   "outputs": [],
   "source": [
    "# test cases from ChatGPT\n",
    "# need to recheck this\n",
    "\n",
    "def test_does_point_belong_to_sepc265k1_curve():\n",
    "    # Test valid points on the curve\n",
    "    assert does_point_belong_to_sepc265k1_curve(55066263022277343669578718895168534326250603453777594175500187360389116729240, 32670510020758816978083085130507043184471273380659243275938904335757337482424)\n",
    "    assert does_point_belong_to_sepc265k1_curve(89565891926547004231252920425935692360644145829622209833684329913297188986597, 12158399299693830322967808612713398636155367887041628176798871954788371653930)\n",
    "    \n",
    "    # Test invalid points not on the curve\n",
    "    assert not does_point_belong_to_sepc265k1_curve(1, 2)\n",
    "    assert not does_point_belong_to_sepc265k1_curve(0, 0)\n",
    "    assert not does_point_belong_to_sepc265k1_curve(100, 200)\n",
    "    assert not does_point_belong_to_sepc265k1_curve(78371274939450204848871079873179119804654684011883701083120242298544747793763, 12345678901234567890123456789012345678901234567890123456789012345678901234)\n",
    "\n",
    "test_does_point_belong_to_sepc265k1_curve()"
   ]
  },
  {
   "cell_type": "code",
   "execution_count": null,
   "id": "75bc83cb",
   "metadata": {},
   "outputs": [],
   "source": []
  }
 ],
 "metadata": {
  "kernelspec": {
   "display_name": "Python 3 (ipykernel)",
   "language": "python",
   "name": "python3"
  },
  "language_info": {
   "codemirror_mode": {
    "name": "ipython",
    "version": 3
   },
   "file_extension": ".py",
   "mimetype": "text/x-python",
   "name": "python",
   "nbconvert_exporter": "python",
   "pygments_lexer": "ipython3",
   "version": "3.9.11"
  }
 },
 "nbformat": 4,
 "nbformat_minor": 5
}
